{
  "nbformat": 4,
  "nbformat_minor": 0,
  "metadata": {
    "colab": {
      "provenance": [],
      "toc_visible": true,
      "authorship_tag": "ABX9TyMl14YRhoZkgnyhPkWfNxgQ",
      "include_colab_link": true
    },
    "kernelspec": {
      "name": "python3",
      "display_name": "Python 3"
    },
    "language_info": {
      "name": "python"
    }
  },
  "cells": [
    {
      "cell_type": "markdown",
      "metadata": {
        "id": "view-in-github",
        "colab_type": "text"
      },
      "source": [
        "<a href=\"https://colab.research.google.com/github/Shreyas19-ai/OOP---Cordinate-Geometry-/blob/master/OOP_Cordinate_Geometry.ipynb\" target=\"_parent\"><img src=\"https://colab.research.google.com/assets/colab-badge.svg\" alt=\"Open In Colab\"/></a>"
      ]
    },
    {
      "cell_type": "markdown",
      "source": [
        "> # Cordinate Geometry Class\n",
        "* If two classes are in the same file,\n",
        "* Then their objects can interact with each other.\n",
        "* If classes in different files,\n",
        "* Then we need to import them then the interaction would be possible."
      ],
      "metadata": {
        "id": "i4CFcL77kiLp"
      }
    },
    {
      "cell_type": "markdown",
      "source": [
        "## Class Point\n",
        "```\n",
        "class Point:\n",
        "  def __init__(self, x, y):  # parameterized constructor\n",
        "    self.x_cord = x\n",
        "    self.y_cord = y\n",
        "```"
      ],
      "metadata": {
        "id": "XjfCoItOsIJ7"
      }
    },
    {
      "cell_type": "markdown",
      "source": [
        "### 1. Display of the Object\n",
        "* I want to display my point object as <x,y>.\n",
        "* I will use magic method name str and write logic of how my object would look like.\n",
        "* Our object would be a set of 2 numbers / attributes.\n",
        "* Set of 2 numbers / attributes is considered as a single object.\n",
        "```\n",
        "  def __str__(self):   # display of object of how it should be visible\n",
        "    return '<{},{}>'.format(self.x_cord, self.y_cord)\n",
        "```"
      ],
      "metadata": {
        "id": "kc6uF0xFlMwN"
      }
    },
    {
      "cell_type": "markdown",
      "source": [
        "### 2. Distance between 2 points - Eucledian\n",
        "* It will require 2 cordinate objects to work/calculate distance\n",
        "* Or 2 set of cordinates.\n",
        "* We will provide self, other\n",
        "* self = (x1, y1)\n",
        "* other = (x2, y2)\n",
        "* We use **\"other\"** when we need to perform any operation between different objects of same/different class\n",
        "```\n",
        "  def eucledian(self, other):\n",
        "    return ((self.x_cord - other.x_cord)**2 + (self.y_cord - other.y_cord)**2)**0.5\n",
        "```"
      ],
      "metadata": {
        "id": "LHA0hAeZmV8w"
      }
    },
    {
      "cell_type": "markdown",
      "source": [
        "### 3. Find distance of a cordinate from origin\n",
        "* Will only need one set of cordinate i.e self.\n",
        "* Other set of cordinate will be 0\n",
        "* That means\n",
        "* self = <x,y>\n",
        "* other = <0,0>\n",
        "```\n",
        "  def origin(self):\n",
        "    return ((self.x_cord)**2 + (self.y_cord)**2)**0.5 # we can use this or below code\n",
        "    return self.eucleian(Point(0,0))\n",
        "```"
      ],
      "metadata": {
        "id": "vU7i3rIxoY-4"
      }
    },
    {
      "cell_type": "markdown",
      "source": [
        "## Class Line\n",
        "```\n",
        "class Line:\n",
        "  def __init__(self, A, B, C):\n",
        "    self.A = A\n",
        "    self.B = B\n",
        "    self.C = C\n",
        "```"
      ],
      "metadata": {
        "id": "W23lGCwqsOyh"
      }
    },
    {
      "cell_type": "markdown",
      "source": [
        "### 4. Display of Object\n",
        "* We will need another class for this\n",
        "* class Line\n",
        "* A, B, C will be user input\n",
        "* It will look like:\n",
        "* Ax + By + C = 0\n",
        "```\n",
        "  def __str__(self): # how my line object will look like\n",
        "    return '{}x + {}y + {} = 0'.format(self.A, self.B, self.C)\n",
        "```"
      ],
      "metadata": {
        "id": "9V2zVewtsWb5"
      }
    },
    {
      "cell_type": "markdown",
      "source": [
        "### 5. Check whether the point lies on a given line\n",
        "* If value of the equation becomes 0 after subsituting <x,y> in Ax + By + C = 0\n",
        "* Then the point lies on the line\n",
        "```\n",
        "  def point_on_line(line, point):\n",
        "    if (line.A * point.x_cord) + (line.B * point.y_cord) +  line.C == 0:\n",
        "      print(\"Point lies on the line\")\n",
        "    else:\n",
        "      print(\"Point does not lie on the line\")\n",
        "```\n"
      ],
      "metadata": {
        "id": "Go63ZRvRqjfF"
      }
    },
    {
      "cell_type": "markdown",
      "source": [
        "### 6. Find disance betweeen a given 2D Point and given Line\n",
        "* Method will receive 2 arguements\n",
        "* One Line Object\n",
        "* One Point Object\n",
        "* Find the shortest distance between line and point\n",
        "```\n",
        "  def short_distance(line, point):\n",
        "    num = abs((line.A * point.x_cord) + (line.B * point.y_cord) +  line.C)\n",
        "    den = (line.A**2 + line.B**2)**0.5\n",
        "    return num/den\n",
        "```"
      ],
      "metadata": {
        "id": "0Y_uYNBBwoCt"
      }
    },
    {
      "cell_type": "markdown",
      "source": [
        "### 7. Find whether 2 lines intersect each other\n",
        "* Will receive 2 line objects as arguement\n",
        "* line = (a1, b1, c1)\n",
        "* other = (a2, b2, c2)\n",
        "* Logic for intersecting : a₁b₂ - a₂b₁ ≠ 0\n",
        "```\n",
        "  def intersect(line, other):\n",
        "    if (line.A * other.B) - (other.A * line.B) != 0:\n",
        "      return \"Both lines intersect each other\"\n",
        "    else:\n",
        "      return \"Lines dont intersect\"\n",
        "```"
      ],
      "metadata": {
        "id": "iH2DCXsjy4IW"
      }
    },
    {
      "cell_type": "markdown",
      "source": [
        "## Code"
      ],
      "metadata": {
        "id": "LRZ8D0QLwXVe"
      }
    },
    {
      "cell_type": "code",
      "execution_count": 58,
      "metadata": {
        "id": "fL1KfpCpalNK"
      },
      "outputs": [],
      "source": [
        "class Point:\n",
        "  def __init__(self, x, y):  # parameterized constructor\n",
        "    self.x_cord = x\n",
        "    self.y_cord = y\n",
        "\n",
        "  def __str__(self):   # display of object of how it should be visible\n",
        "    return '<{},{}>'.format(self.x_cord, self.y_cord)\n",
        "\n",
        "  def eucledian(self, other):\n",
        "    return ((self.x_cord - other.x_cord)**2 + (self.y_cord - other.y_cord)**2)**0.5\n",
        "\n",
        "  def origin(self):\n",
        " #  return ((self.x_cord)**2 + (self.y_cord)**2)**0.5\n",
        "    return self.eucledian(Point(0,0))\n",
        "\n",
        "class Line:\n",
        "  def __init__(self, A, B, C):\n",
        "    self.A = A\n",
        "    self.B = B\n",
        "    self.C = C\n",
        "\n",
        "  def __str__(self): # how my line object will look like\n",
        "    return '{}x + {}y + {} = 0'.format(self.A, self.B, self.C)\n",
        "\n",
        "  def point_on_line(line, point):\n",
        "    if (line.A * point.x_cord) + (line.B * point.y_cord) +  line.C == 0:\n",
        "      print(\"Point lies on the line\")\n",
        "    else:\n",
        "      print(\"Point does not lie on the line\")\n",
        "\n",
        "  def short_distance(line, point):\n",
        "    num = abs((line.A * point.x_cord) + (line.B * point.y_cord) +  line.C) # modulus\n",
        "    den = (line.A**2 + line.B**2)**0.5\n",
        "    return num/den\n",
        "\n",
        "  def intersect(line, other):\n",
        "    if (line.A * other.B) - (other.A * line.B) != 0:\n",
        "      return \"Both lines intersect each other\"\n",
        "    else:\n",
        "      return \"Lines dont intersect\""
      ]
    },
    {
      "cell_type": "code",
      "source": [
        "b1 = Point(3,4)\n",
        "b2 = Point(1,1)"
      ],
      "metadata": {
        "id": "X2AWtIgGk_Jb"
      },
      "execution_count": 59,
      "outputs": []
    },
    {
      "cell_type": "code",
      "source": [
        "b1.eucledian(b2)\n",
        "# eucledian receives 2 arguements but we are passing only on, Why?\n",
        "# here as we are calling the function eucledian\n",
        "# b1 is passed as self (object) automatically\n",
        "# and b2 we are passing"
      ],
      "metadata": {
        "colab": {
          "base_uri": "https://localhost:8080/"
        },
        "id": "oLvSuHLHlDep",
        "outputId": "64fb56c4-89af-430b-fc8c-ee15d0e407e8"
      },
      "execution_count": 60,
      "outputs": [
        {
          "output_type": "execute_result",
          "data": {
            "text/plain": [
              "3.605551275463989"
            ]
          },
          "metadata": {},
          "execution_count": 60
        }
      ]
    },
    {
      "cell_type": "code",
      "source": [
        "l1 = Line(2,3,-4)\n",
        "l2 = Line(1,1,-2)"
      ],
      "metadata": {
        "id": "i4P8Ag35r42u"
      },
      "execution_count": 61,
      "outputs": []
    },
    {
      "cell_type": "code",
      "source": [
        "l1.intersect(l2)"
      ],
      "metadata": {
        "colab": {
          "base_uri": "https://localhost:8080/",
          "height": 35
        },
        "id": "0BOZxof-1BfL",
        "outputId": "90602099-66b2-4a54-cbd6-787ee5f73178"
      },
      "execution_count": 62,
      "outputs": [
        {
          "output_type": "execute_result",
          "data": {
            "text/plain": [
              "'Both lines intersect each other'"
            ],
            "application/vnd.google.colaboratory.intrinsic+json": {
              "type": "string"
            }
          },
          "metadata": {},
          "execution_count": 62
        }
      ]
    },
    {
      "cell_type": "code",
      "source": [
        "l3 = Line(2,3,-4)\n",
        "l4 = Line(4,6,-8)\n",
        "l3.intersect(l4)"
      ],
      "metadata": {
        "colab": {
          "base_uri": "https://localhost:8080/",
          "height": 35
        },
        "id": "vi63rSxu1KFr",
        "outputId": "4591ed33-cd39-458f-ef3f-d6c97bf42183"
      },
      "execution_count": 63,
      "outputs": [
        {
          "output_type": "execute_result",
          "data": {
            "text/plain": [
              "'Lines dont intersect'"
            ],
            "application/vnd.google.colaboratory.intrinsic+json": {
              "type": "string"
            }
          },
          "metadata": {},
          "execution_count": 63
        }
      ]
    },
    {
      "cell_type": "code",
      "source": [
        "l1.point_on_line(b2)"
      ],
      "metadata": {
        "colab": {
          "base_uri": "https://localhost:8080/"
        },
        "id": "8po8epQKufpU",
        "outputId": "a4eca791-31c1-47cb-9cbd-cb10df8a5533"
      },
      "execution_count": 64,
      "outputs": [
        {
          "output_type": "stream",
          "name": "stdout",
          "text": [
            "Point does not lie on the line\n"
          ]
        }
      ]
    },
    {
      "cell_type": "code",
      "source": [
        "l2.point_on_line(b2)"
      ],
      "metadata": {
        "colab": {
          "base_uri": "https://localhost:8080/"
        },
        "id": "n5JVjkvduOWC",
        "outputId": "c523b68e-ae02-4a4f-80d3-faf6d2b98bc0"
      },
      "execution_count": 65,
      "outputs": [
        {
          "output_type": "stream",
          "name": "stdout",
          "text": [
            "Point lies on the line\n"
          ]
        }
      ]
    },
    {
      "cell_type": "code",
      "source": [
        "print(l1)"
      ],
      "metadata": {
        "colab": {
          "base_uri": "https://localhost:8080/"
        },
        "id": "21i9b4lNr8Ho",
        "outputId": "342fbbb8-145f-48a0-bac9-f28171f97d6c"
      },
      "execution_count": 66,
      "outputs": [
        {
          "output_type": "stream",
          "name": "stdout",
          "text": [
            "2x + 3y + -4 = 0\n"
          ]
        }
      ]
    },
    {
      "cell_type": "code",
      "source": [
        "l2.short_distance(b2)"
      ],
      "metadata": {
        "colab": {
          "base_uri": "https://localhost:8080/"
        },
        "id": "85XfsabIySjO",
        "outputId": "8f8e81ce-c529-48a1-dabb-bd49a3ecc777"
      },
      "execution_count": 67,
      "outputs": [
        {
          "output_type": "execute_result",
          "data": {
            "text/plain": [
              "0.0"
            ]
          },
          "metadata": {},
          "execution_count": 67
        }
      ]
    },
    {
      "cell_type": "code",
      "source": [
        "l1.short_distance(b2)"
      ],
      "metadata": {
        "colab": {
          "base_uri": "https://localhost:8080/"
        },
        "id": "GMl0uN12yaTl",
        "outputId": "8a8a3c6a-d60c-4560-907f-fe8188643f28"
      },
      "execution_count": 68,
      "outputs": [
        {
          "output_type": "execute_result",
          "data": {
            "text/plain": [
              "0.2773500981126146"
            ]
          },
          "metadata": {},
          "execution_count": 68
        }
      ]
    },
    {
      "cell_type": "code",
      "source": [
        "l1.short_distance(b1)"
      ],
      "metadata": {
        "colab": {
          "base_uri": "https://localhost:8080/"
        },
        "id": "WtSzY6K3ydMS",
        "outputId": "48449ca8-31e6-425a-d3ec-f2dc8fbc4b6a"
      },
      "execution_count": 69,
      "outputs": [
        {
          "output_type": "execute_result",
          "data": {
            "text/plain": [
              "3.8829013735766043"
            ]
          },
          "metadata": {},
          "execution_count": 69
        }
      ]
    },
    {
      "cell_type": "code",
      "source": [
        "l2.short_distance(b1)"
      ],
      "metadata": {
        "colab": {
          "base_uri": "https://localhost:8080/"
        },
        "id": "cGIzmBqIygTl",
        "outputId": "e62d30a0-fa81-4b8d-bb14-3619b958cfb6"
      },
      "execution_count": 70,
      "outputs": [
        {
          "output_type": "execute_result",
          "data": {
            "text/plain": [
              "3.5355339059327373"
            ]
          },
          "metadata": {},
          "execution_count": 70
        }
      ]
    },
    {
      "cell_type": "code",
      "source": [
        "b1.origin()"
      ],
      "metadata": {
        "colab": {
          "base_uri": "https://localhost:8080/"
        },
        "id": "g_URZ87_lF8X",
        "outputId": "e71f0d58-8041-49e5-ec17-4726387612ed"
      },
      "execution_count": 71,
      "outputs": [
        {
          "output_type": "execute_result",
          "data": {
            "text/plain": [
              "5.0"
            ]
          },
          "metadata": {},
          "execution_count": 71
        }
      ]
    }
  ]
}